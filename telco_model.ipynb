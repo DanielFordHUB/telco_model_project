{
 "cells": [
  {
   "cell_type": "code",
   "execution_count": 1,
   "id": "9853bf20",
   "metadata": {},
   "outputs": [],
   "source": [
    "import numpy as np\n",
    "import pandas as pd\n",
    "from sklearn.model_selection import train_test_split\n",
    "import matplotlib.pyplot as plt\n",
    "%matplotlib inline\n",
    "import seaborn as sns\n",
    "\n",
    "\n",
    "from sklearn.linear_model import LogisticRegression\n",
    "from sklearn.ensemble import RandomForestClassifier\n",
    "from sklearn.tree import DecisionTreeClassifier\n",
    "from sklearn.tree import export_graphviz\n",
    "from sklearn.metrics import classification_report\n",
    "from sklearn.metrics import confusion_matrix\n",
    "from sklearn.neighbors import KNeighborsClassifier\n",
    "from sklearn.metrics import recall_score, precision_score, f1_score, accuracy_score\n",
    "import sklearn.linear_model\n",
    "\n",
    "import warnings\n",
    "warnings.filterwarnings(\"ignore\")\n",
    "\n",
    "from acquire_telco import get_telco_data\n",
    "from prep_telco import prep_telco_data, split_telco_data, prep_telco_data_only"
   ]
  },
  {
   "cell_type": "code",
   "execution_count": 2,
   "id": "853f7e64",
   "metadata": {},
   "outputs": [],
   "source": [
    "import dtale"
   ]
  },
  {
   "cell_type": "markdown",
   "id": "df322e67",
   "metadata": {},
   "source": [
    "# Gathering Data"
   ]
  },
  {
   "cell_type": "code",
   "execution_count": 3,
   "id": "96951fb2",
   "metadata": {},
   "outputs": [],
   "source": [
    "# acquiring Telco data\n",
    "df = get_telco_data()"
   ]
  },
  {
   "cell_type": "code",
   "execution_count": null,
   "id": "f78e239d",
   "metadata": {},
   "outputs": [],
   "source": [
    "dtale.show(df)"
   ]
  },
  {
   "cell_type": "code",
   "execution_count": null,
   "id": "46bb5dc5",
   "metadata": {
    "scrolled": true
   },
   "outputs": [],
   "source": [
    "df.head()"
   ]
  },
  {
   "cell_type": "code",
   "execution_count": null,
   "id": "64f08785",
   "metadata": {},
   "outputs": [],
   "source": [
    "df.describe()"
   ]
  },
  {
   "cell_type": "code",
   "execution_count": null,
   "id": "486a76b2",
   "metadata": {},
   "outputs": [],
   "source": [
    "df.shape"
   ]
  },
  {
   "cell_type": "code",
   "execution_count": null,
   "id": "cf2e52df",
   "metadata": {},
   "outputs": [],
   "source": [
    "plt.figure(figsize = (8,4))\n",
    "df.churn.hist(bins=3, align='mid')\n",
    "plt.title('Has the customer churned?')\n",
    "plt.ylabel('# of customers')\n",
    "plt.show()\n"
   ]
  },
  {
   "cell_type": "code",
   "execution_count": null,
   "id": "f3030c05",
   "metadata": {},
   "outputs": [],
   "source": [
    "df.monthly_charges.hist()\n",
    "plt.title('What customers are paying each month')\n",
    "plt.ylabel('# of customers')\n",
    "plt.xlabel('Monthly Charge, $USD')\n",
    "plt.show()"
   ]
  },
  {
   "cell_type": "code",
   "execution_count": null,
   "id": "9bef7625",
   "metadata": {},
   "outputs": [],
   "source": [
    "df.contract_type.hist()\n",
    "plt.title('customer contracts by type')\n",
    "plt.ylabel('# of customers')\n",
    "plt.xlabel('contract type')\n",
    "plt.show()"
   ]
  },
  {
   "cell_type": "code",
   "execution_count": null,
   "id": "d32574ff",
   "metadata": {},
   "outputs": [],
   "source": [
    "#dfc = prep_telco_data_only(df)\n",
    "#dfc.head()"
   ]
  },
  {
   "cell_type": "code",
   "execution_count": null,
   "id": "bea6de51",
   "metadata": {},
   "outputs": [],
   "source": [
    "#dfc = dfc.select_dtypes(exclude=['object'])"
   ]
  },
  {
   "cell_type": "code",
   "execution_count": null,
   "id": "57aabf52",
   "metadata": {
    "scrolled": true
   },
   "outputs": [],
   "source": [
    "#dtale.show(dfc)"
   ]
  },
  {
   "cell_type": "code",
   "execution_count": null,
   "id": "2a68ec41",
   "metadata": {},
   "outputs": [],
   "source": [
    "dtale.show(train)"
   ]
  },
  {
   "cell_type": "code",
   "execution_count": 4,
   "id": "324b72cd",
   "metadata": {},
   "outputs": [],
   "source": [
    "# preperation and split of data\n",
    "train, validate, test = prep_telco_data(df)"
   ]
  },
  {
   "cell_type": "code",
   "execution_count": null,
   "id": "a595ee58",
   "metadata": {},
   "outputs": [],
   "source": [
    "train.describe()"
   ]
  },
  {
   "cell_type": "code",
   "execution_count": null,
   "id": "13175802",
   "metadata": {},
   "outputs": [],
   "source": [
    "train.shape, validate.shape, test.shape"
   ]
  },
  {
   "cell_type": "code",
   "execution_count": null,
   "id": "afff4764",
   "metadata": {},
   "outputs": [],
   "source": [
    "train.info()"
   ]
  },
  {
   "cell_type": "code",
   "execution_count": 5,
   "id": "1860f1cc",
   "metadata": {},
   "outputs": [],
   "source": [
    "# drop object dtypes\n",
    "train = train.select_dtypes(exclude=['object'])\n",
    "validate = validate.select_dtypes(exclude=['object'])\n",
    "test = test.select_dtypes(exclude=['object'])"
   ]
  },
  {
   "cell_type": "code",
   "execution_count": null,
   "id": "a76c7ed6",
   "metadata": {
    "scrolled": true
   },
   "outputs": [],
   "source": [
    "train.info()\n"
   ]
  },
  {
   "cell_type": "code",
   "execution_count": null,
   "id": "d3f3e811",
   "metadata": {},
   "outputs": [],
   "source": []
  },
  {
   "cell_type": "code",
   "execution_count": null,
   "id": "aa3cafa6",
   "metadata": {},
   "outputs": [],
   "source": [
    "dtale.show(train)"
   ]
  },
  {
   "cell_type": "code",
   "execution_count": null,
   "id": "4cf8addb",
   "metadata": {},
   "outputs": [],
   "source": [
    "train.shape, validate.shape, test.shape"
   ]
  },
  {
   "cell_type": "code",
   "execution_count": null,
   "id": "050150e5",
   "metadata": {},
   "outputs": [],
   "source": [
    "train.churn_encoded.value_counts()"
   ]
  },
  {
   "cell_type": "code",
   "execution_count": null,
   "id": "278b9e36",
   "metadata": {},
   "outputs": [],
   "source": [
    "train.info()"
   ]
  },
  {
   "cell_type": "code",
   "execution_count": 6,
   "id": "f18e7ac8",
   "metadata": {},
   "outputs": [],
   "source": [
    "X_train = train.drop(columns=[\"churn_encoded\"])\n",
    "y_train = train.churn_encoded\n",
    "\n",
    "X_validate = validate.drop(columns=[\"churn_encoded\"])\n",
    "y_validate = validate.churn_encoded\n",
    "\n",
    "X_test = test.drop(columns=[\"churn_encoded\"])\n",
    "y_test = test.churn_encoded\n",
    "\n",
    "# Establish target features\n",
    "features = ['monthly_charges', 'internet_service_type_Fiber optic', 'internet_service_type_None', 'senior_citizen']\n",
    "features2 = ['tenure','monthly_charges', 'partner_encoded','senior_citizen']\n",
    "features3 = ['tenure','monthly_charges', 'partner_encoded','total_charges','senior_citizen']\n",
    "features4 = ['tenure','monthly_charges', 'partner_encoded']\n",
    "features5 = ['internet_service_type_Fiber optic', 'internet_service_type_None','tenure','monthly_charges']\n",
    "features6 = ['tenure','contract_type_One year','contract_type_Two year','internet_service_type_Fiber optic','internet_service_type_None','monthly_charges']"
   ]
  },
  {
   "cell_type": "code",
   "execution_count": null,
   "id": "a70148ac",
   "metadata": {},
   "outputs": [],
   "source": [
    "y_train[0:10]"
   ]
  },
  {
   "cell_type": "code",
   "execution_count": null,
   "id": "9d87e27e",
   "metadata": {},
   "outputs": [],
   "source": [
    "train.churn_encoded.value_counts()"
   ]
  },
  {
   "cell_type": "code",
   "execution_count": 7,
   "id": "88eeb463",
   "metadata": {},
   "outputs": [
    {
     "name": "stdout",
     "output_type": "stream",
     "text": [
      "Baseline accuracy: 0.73\n"
     ]
    }
   ],
   "source": [
    "# Create Baseline\n",
    "baseline = y_train.mode()\n",
    "\n",
    "# Produce a boolean array with True representing a match between the baseline prediction and reality\n",
    "matches_baseline_prediction = (y_train == 0)\n",
    "\n",
    "baseline_accuracy = matches_baseline_prediction.mean()\n",
    "print(f\"Baseline accuracy: {round(baseline_accuracy, 2)}\")"
   ]
  },
  {
   "cell_type": "markdown",
   "id": "1bd8cf72",
   "metadata": {},
   "source": [
    "# KNN - Train\n"
   ]
  },
  {
   "cell_type": "code",
   "execution_count": null,
   "id": "c475437a",
   "metadata": {},
   "outputs": [],
   "source": []
  },
  {
   "cell_type": "code",
   "execution_count": null,
   "id": "ef2bb539",
   "metadata": {},
   "outputs": [],
   "source": [
    "# Create knn model\n",
    "knn = KNeighborsClassifier(n_neighbors = 5)\n",
    "# Fit model to predictors and target\n",
    "knn = knn.fit(X_train[features], y_train)\n",
    "# Predict outcomes\n",
    "y_pred = knn.predict(X_train[features])\n",
    "# Probability estimates\n",
    "y_pred_proba = knn.predict_proba(X_train[features])\n",
    "\n",
    "# Print scoring\n",
    "print(classification_report(y_train, y_pred))"
   ]
  },
  {
   "cell_type": "code",
   "execution_count": null,
   "id": "b76462e7",
   "metadata": {
    "scrolled": false
   },
   "outputs": [],
   "source": [
    "# feature model 1 is good and validation moddel stays in line with train\n",
    "\n",
    "\n",
    "# Predict outcomes\n",
    "y_pred = knn.predict(X_validate[features])\n",
    "# Probability estimates\n",
    "y_pred_proba = knn.predict_proba(X_validate[features])\n",
    "\n",
    "# Print scoring\n",
    "print(classification_report(y_validate, y_pred))"
   ]
  },
  {
   "cell_type": "markdown",
   "id": "4ab44e6c",
   "metadata": {},
   "source": [
    "# knn feature 2"
   ]
  },
  {
   "cell_type": "code",
   "execution_count": null,
   "id": "01f19b6d",
   "metadata": {},
   "outputs": [],
   "source": [
    "# Create knn model\n",
    "knn = KNeighborsClassifier(n_neighbors = 5)\n",
    "# Fit model to predictors and target\n",
    "knn = knn.fit(X_train[features2], y_train)\n",
    "# Predict outcomes\n",
    "y_pred = knn.predict(X_train[features2])\n",
    "# Probability estimates\n",
    "y_pred_proba = knn.predict_proba(X_train[features2])\n",
    "\n",
    "# Print scoring\n",
    "print(classification_report(y_train, y_pred))"
   ]
  },
  {
   "cell_type": "code",
   "execution_count": null,
   "id": "944b2a3a",
   "metadata": {
    "scrolled": true
   },
   "outputs": [],
   "source": [
    "# features 2 performed better than feature 1\n",
    "\n",
    "# Predict outcomes\n",
    "y_pred = knn.predict(X_validate[features2])\n",
    "# Probability estimates\n",
    "y_pred_proba = knn.predict_proba(X_validate[features2])\n",
    "\n",
    "# Print scoring\n",
    "print(classification_report(y_validate, y_pred))"
   ]
  },
  {
   "cell_type": "markdown",
   "id": "73fd1dbc",
   "metadata": {},
   "source": [
    "# knn feature 3"
   ]
  },
  {
   "cell_type": "code",
   "execution_count": null,
   "id": "057b1803",
   "metadata": {},
   "outputs": [],
   "source": [
    "# Create knn model\n",
    "knn = KNeighborsClassifier(n_neighbors = 3)\n",
    "# Fit model to predictors and target\n",
    "knn = knn.fit(X_train[features3], y_train)\n",
    "# Predict outcomes\n",
    "y_pred = knn.predict(X_train[features3])\n",
    "# Probability estimates\n",
    "y_pred_proba = knn.predict_proba(X_train[features3])\n",
    "\n",
    "# Print scoring\n",
    "print(classification_report(y_train, y_pred))"
   ]
  },
  {
   "cell_type": "code",
   "execution_count": null,
   "id": "51b8e19f",
   "metadata": {},
   "outputs": [],
   "source": [
    "# features 3 performed better than feature 1 & 2\n",
    "\n",
    "\n",
    "# Predict outcomes\n",
    "y_pred = knn.predict(X_validate[features3])\n",
    "# Probability estimates\n",
    "y_pred_proba = knn.predict_proba(X_validate[features3])\n",
    "\n",
    "# Print scoring\n",
    "print(classification_report(y_validate, y_pred))"
   ]
  },
  {
   "cell_type": "markdown",
   "id": "fe616d2a",
   "metadata": {},
   "source": [
    "# KNN Feature 4"
   ]
  },
  {
   "cell_type": "code",
   "execution_count": null,
   "id": "2b10e519",
   "metadata": {},
   "outputs": [],
   "source": [
    "# Create knn model\n",
    "knn = KNeighborsClassifier(n_neighbors = 4)\n",
    "# Fit model to predictors and target\n",
    "knn = knn.fit(X_train[features4], y_train)\n",
    "# Predict outcomes\n",
    "y_pred = knn.predict(X_train[features4])\n",
    "# Probability estimates\n",
    "y_pred_proba = knn.predict_proba(X_train[features4])\n",
    "\n",
    "# Print scoring\n",
    "print(classification_report(y_train, y_pred))"
   ]
  },
  {
   "cell_type": "code",
   "execution_count": null,
   "id": "999a0e5c",
   "metadata": {},
   "outputs": [],
   "source": [
    "# features 3 & 4 performed nearly identical\n",
    "\n",
    "\n",
    "# Predict outcomes\n",
    "y_pred = knn.predict(X_validate[features4])\n",
    "# Probability estimates\n",
    "y_pred_proba = knn.predict_proba(X_validate[features4])\n",
    "\n",
    "# Print scoring\n",
    "print(classification_report(y_validate, y_pred))"
   ]
  },
  {
   "cell_type": "code",
   "execution_count": null,
   "id": "d515c9bd",
   "metadata": {},
   "outputs": [],
   "source": []
  },
  {
   "cell_type": "code",
   "execution_count": null,
   "id": "ab2d4a0b",
   "metadata": {},
   "outputs": [],
   "source": []
  },
  {
   "cell_type": "code",
   "execution_count": null,
   "id": "530078e0",
   "metadata": {},
   "outputs": [],
   "source": []
  },
  {
   "cell_type": "code",
   "execution_count": null,
   "id": "db09dd58",
   "metadata": {},
   "outputs": [],
   "source": []
  },
  {
   "cell_type": "code",
   "execution_count": null,
   "id": "cd88ccb6",
   "metadata": {},
   "outputs": [],
   "source": []
  },
  {
   "cell_type": "markdown",
   "id": "8f5e9d1f",
   "metadata": {},
   "source": [
    "# KNN F5"
   ]
  },
  {
   "cell_type": "code",
   "execution_count": null,
   "id": "9427318e",
   "metadata": {},
   "outputs": [],
   "source": [
    "# Create knn model\n",
    "knn = KNeighborsClassifier(n_neighbors = 3)\n",
    "# Fit model to predictors and target\n",
    "knn = knn.fit(X_train[features5], y_train)\n",
    "# Predict outcomes\n",
    "y_pred = knn.predict(X_train[features5])\n",
    "# Probability estimates\n",
    "y_pred_proba = knn.predict_proba(X_train[features5])\n",
    "\n",
    "# Print scoring\n",
    "print(classification_report(y_train, y_pred))"
   ]
  },
  {
   "cell_type": "code",
   "execution_count": null,
   "id": "b8df6e26",
   "metadata": {},
   "outputs": [],
   "source": [
    "\n",
    "\n",
    "# Predict outcomes\n",
    "y_pred = knn.predict(X_validate[features5])\n",
    "# Probability estimates\n",
    "y_pred_proba = knn.predict_proba(X_validate[features5])\n",
    "\n",
    "# Print scoring\n",
    "print(classification_report(y_validate, y_pred))"
   ]
  },
  {
   "cell_type": "markdown",
   "id": "980955c2",
   "metadata": {},
   "source": [
    "# KNN F6"
   ]
  },
  {
   "cell_type": "code",
   "execution_count": null,
   "id": "d2ed70e3",
   "metadata": {},
   "outputs": [],
   "source": [
    "# Create knn model\n",
    "knn = KNeighborsClassifier(n_neighbors = 3)\n",
    "# Fit model to predictors and target\n",
    "knn = knn.fit(X_train[features6], y_train)\n",
    "# Predict outcomes\n",
    "y_pred = knn.predict(X_train[features6])\n",
    "# Probability estimates\n",
    "y_pred_proba = knn.predict_proba(X_train[features6])\n",
    "\n",
    "# Print scoring\n",
    "print(classification_report(y_train, y_pred))"
   ]
  },
  {
   "cell_type": "code",
   "execution_count": null,
   "id": "65a30270",
   "metadata": {},
   "outputs": [],
   "source": [
    "\n",
    "# Predict outcomes\n",
    "y_pred = knn.predict(X_validate[features6])\n",
    "# Probability estimates\n",
    "y_pred_proba = knn.predict_proba(X_validate[features6])\n",
    "\n",
    "# Print scoring\n",
    "print(classification_report(y_validate, y_pred))"
   ]
  },
  {
   "cell_type": "code",
   "execution_count": null,
   "id": "c515b13d",
   "metadata": {},
   "outputs": [],
   "source": []
  },
  {
   "cell_type": "code",
   "execution_count": null,
   "id": "94054d44",
   "metadata": {},
   "outputs": [],
   "source": []
  },
  {
   "cell_type": "code",
   "execution_count": null,
   "id": "5cef56cd",
   "metadata": {},
   "outputs": [],
   "source": []
  },
  {
   "cell_type": "code",
   "execution_count": null,
   "id": "80a5d419",
   "metadata": {},
   "outputs": [],
   "source": []
  },
  {
   "cell_type": "markdown",
   "id": "99898431",
   "metadata": {},
   "source": [
    "# Decision Tree Exploration"
   ]
  },
  {
   "cell_type": "code",
   "execution_count": null,
   "id": "f253bbab",
   "metadata": {},
   "outputs": [],
   "source": [
    "### \n",
    "\n",
    "# Make the model\n",
    "tree1 = DecisionTreeClassifier(max_depth=5, random_state=123)\n",
    "\n",
    "# Fit the model (on train and only train)\n",
    "tree1 = tree1.fit(X_train[features3], y_train)\n",
    "\n",
    "# Use the model\n",
    "# We'll evaluate the model's performance on train, first\n",
    "y_predictions = tree1.predict(X_train[features3])\n",
    "\n",
    "print('Accuracy of Decision Tree classifier on training set: {:.2f}'\n",
    "      .format(tree1.score(X_train[features3], y_train)))"
   ]
  },
  {
   "cell_type": "code",
   "execution_count": null,
   "id": "284e0eab",
   "metadata": {},
   "outputs": [],
   "source": []
  },
  {
   "cell_type": "code",
   "execution_count": null,
   "id": "607adbc9",
   "metadata": {},
   "outputs": [],
   "source": [
    "# confusion matrix - actual on left, predicted on top\n",
    "pd.DataFrame(confusion_matrix(y_train, y_predictions))"
   ]
  },
  {
   "cell_type": "code",
   "execution_count": null,
   "id": "60f2e3e6",
   "metadata": {},
   "outputs": [],
   "source": [
    "pd.crosstab(y_train, y_predictions)"
   ]
  },
  {
   "cell_type": "code",
   "execution_count": null,
   "id": "62709325",
   "metadata": {},
   "outputs": [],
   "source": [
    "print(classification_report(y_train, y_predictions))"
   ]
  },
  {
   "cell_type": "code",
   "execution_count": null,
   "id": "2aecb556",
   "metadata": {},
   "outputs": [],
   "source": [
    "# Produce the classification report on the actual y values and this model's predicted y values\n",
    "report = classification_report(y_train, y_predictions, output_dict=True)\n",
    "print(\"Tree of 1 depth\")\n",
    "pd.DataFrame(report)"
   ]
  },
  {
   "cell_type": "code",
   "execution_count": null,
   "id": "3b42ac62",
   "metadata": {},
   "outputs": [],
   "source": []
  },
  {
   "cell_type": "code",
   "execution_count": null,
   "id": "ce524c21",
   "metadata": {},
   "outputs": [],
   "source": [
    "# Make the model\n",
    "tree2 = DecisionTreeClassifier(max_depth=5, random_state=123)\n",
    "\n",
    "# Fit the model (on train and only train)\n",
    "tree2 = tree2.fit(X_train[features4], y_train)\n",
    "\n",
    "# Use the model\n",
    "# We'll evaluate the model's performance on train, first\n",
    "y_predictions = tree2.predict(X_train[features4])\n",
    "\n",
    "print('Accuracy of Decision Tree classifier on training set: {:.2f}'\n",
    "      .format(tree2.score(X_train[features4], y_train)))"
   ]
  },
  {
   "cell_type": "code",
   "execution_count": null,
   "id": "04a5147e",
   "metadata": {},
   "outputs": [],
   "source": []
  },
  {
   "cell_type": "code",
   "execution_count": null,
   "id": "90a66460",
   "metadata": {},
   "outputs": [],
   "source": []
  },
  {
   "cell_type": "code",
   "execution_count": null,
   "id": "00ace091",
   "metadata": {},
   "outputs": [],
   "source": []
  },
  {
   "cell_type": "markdown",
   "id": "2014980d",
   "metadata": {},
   "source": [
    "# loop exploration DT"
   ]
  },
  {
   "cell_type": "code",
   "execution_count": null,
   "id": "8905469f",
   "metadata": {},
   "outputs": [],
   "source": [
    "for i in range(2, 21):\n",
    "    # Make the model\n",
    "    tree = DecisionTreeClassifier(max_depth=i, random_state=123)\n",
    "\n",
    "    # Fit the model (on train and only train)\n",
    "    tree = tree.fit(X_train[features4], y_train)\n",
    "\n",
    "    # Use the model\n",
    "    # We'll evaluate the model's performance on train, first\n",
    "    y_predictions = tree.predict(X_train[features4])\n",
    "\n",
    "    # Produce the classification report on the actual y values and this model's predicted y values\n",
    "    report = classification_report(y_train, y_predictions, output_dict=True)\n",
    "    print(f\"Tree with max depth of {i}\")\n",
    "    print(pd.DataFrame(report))\n",
    "    print()"
   ]
  },
  {
   "cell_type": "code",
   "execution_count": null,
   "id": "869c8aa6",
   "metadata": {},
   "outputs": [],
   "source": [
    "# Keep looping, compare in-sample to out-of-sample\n",
    "metrics = []\n",
    "\n",
    "for i in range(2, 25):\n",
    "    # Make the model\n",
    "    tree = DecisionTreeClassifier(max_depth=i, random_state=123)\n",
    "\n",
    "    # Fit the model (on train and only train)\n",
    "    tree = tree.fit(X_train[features2], y_train)\n",
    "\n",
    "    # Use the model\n",
    "    # We'll evaluate the model's performance on train, first\n",
    "    in_sample_accuracy = tree.score(X_train[features2], y_train)\n",
    "    \n",
    "    out_of_sample_accuracy = tree.score(X_validate[features2], y_validate)\n",
    "\n",
    "    output = {\n",
    "        \"max_depth\": i,\n",
    "        \"train_accuracy\": in_sample_accuracy,\n",
    "        \"validate_accuracy\": out_of_sample_accuracy\n",
    "    }\n",
    "    \n",
    "    metrics.append(output)\n",
    "    \n",
    "df = pd.DataFrame(metrics)\n",
    "df[\"difference\"] = df.train_accuracy - df.validate_accuracy\n",
    "df"
   ]
  },
  {
   "cell_type": "code",
   "execution_count": null,
   "id": "74884a23",
   "metadata": {},
   "outputs": [],
   "source": [
    "df[df.difference <= 0.10].sort_values(by=['validate_accuracy', 'difference'], ascending = [False,True])"
   ]
  },
  {
   "cell_type": "markdown",
   "id": "e12e7fbb",
   "metadata": {},
   "source": [
    "# DT using feature 5"
   ]
  },
  {
   "cell_type": "code",
   "execution_count": null,
   "id": "e1314d3d",
   "metadata": {},
   "outputs": [],
   "source": [
    "for i in range(2, 21):\n",
    "    # Make the model\n",
    "    tree = DecisionTreeClassifier(max_depth=i, random_state=123)\n",
    "\n",
    "    # Fit the model (on train and only train)\n",
    "    tree = tree.fit(X_train[features5], y_train)\n",
    "\n",
    "    # Use the model\n",
    "    # We'll evaluate the model's performance on train, first\n",
    "    y_predictions = tree.predict(X_train[features5])\n",
    "\n",
    "    # Produce the classification report on the actual y values and this model's predicted y values\n",
    "    report = classification_report(y_train, y_predictions, output_dict=True)\n",
    "    print(f\"Tree with max depth of {i}\")\n",
    "    print(pd.DataFrame(report))\n",
    "    print()"
   ]
  },
  {
   "cell_type": "code",
   "execution_count": null,
   "id": "7d92fc00",
   "metadata": {},
   "outputs": [],
   "source": [
    "# Keep looping, compare in-sample to out-of-sample\n",
    "metrics = []\n",
    "\n",
    "for i in range(2, 25):\n",
    "    # Make the model\n",
    "    tree = DecisionTreeClassifier(max_depth=i, random_state=123)\n",
    "\n",
    "    # Fit the model (on train and only train)\n",
    "    tree = tree.fit(X_train[features5], y_train)\n",
    "\n",
    "    # Use the model\n",
    "    # We'll evaluate the model's performance on train, first\n",
    "    in_sample_accuracy = tree.score(X_train[features5], y_train)\n",
    "    \n",
    "    out_of_sample_accuracy = tree.score(X_validate[features5], y_validate)\n",
    "\n",
    "    output = {\n",
    "        \"max_depth\": i,\n",
    "        \"train_accuracy\": in_sample_accuracy,\n",
    "        \"validate_accuracy\": out_of_sample_accuracy\n",
    "    }\n",
    "    \n",
    "    metrics.append(output)\n",
    "    \n",
    "df = pd.DataFrame(metrics)\n",
    "df[\"difference\"] = df.train_accuracy - df.validate_accuracy\n",
    "df"
   ]
  },
  {
   "cell_type": "markdown",
   "id": "32c5c656",
   "metadata": {},
   "source": [
    "# DT F6"
   ]
  },
  {
   "cell_type": "code",
   "execution_count": null,
   "id": "8468343b",
   "metadata": {},
   "outputs": [],
   "source": [
    "for i in range(2, 21):\n",
    "    # Make the model\n",
    "    tree = DecisionTreeClassifier(max_depth=i, random_state=123)\n",
    "\n",
    "    # Fit the model (on train and only train)\n",
    "    tree = tree.fit(X_train[features6], y_train)\n",
    "\n",
    "    # Use the model\n",
    "    # We'll evaluate the model's performance on train, first\n",
    "    y_predictions = tree.predict(X_train[features6])\n",
    "\n",
    "    # Produce the classification report on the actual y values and this model's predicted y values\n",
    "    report = classification_report(y_train, y_predictions, output_dict=True)\n",
    "    print(f\"Tree with max depth of {i}\")\n",
    "    print(pd.DataFrame(report))\n",
    "    print()"
   ]
  },
  {
   "cell_type": "code",
   "execution_count": null,
   "id": "dd843ab9",
   "metadata": {},
   "outputs": [],
   "source": [
    "# Keep looping, compare in-sample to out-of-sample\n",
    "metrics = []\n",
    "\n",
    "for i in range(2, 25):\n",
    "    # Make the model\n",
    "    tree = DecisionTreeClassifier(max_depth=i, random_state=123)\n",
    "\n",
    "    # Fit the model (on train and only train)\n",
    "    tree = tree.fit(X_train[features6], y_train)\n",
    "\n",
    "    # Use the model\n",
    "    # We'll evaluate the model's performance on train, first\n",
    "    in_sample_accuracy = tree.score(X_train[features6], y_train)\n",
    "    \n",
    "    out_of_sample_accuracy = tree.score(X_validate[features6], y_validate)\n",
    "\n",
    "    output = {\n",
    "        \"max_depth\": i,\n",
    "        \"train_accuracy\": in_sample_accuracy,\n",
    "        \"validate_accuracy\": out_of_sample_accuracy\n",
    "    }\n",
    "    \n",
    "    metrics.append(output)\n",
    "    \n",
    "df = pd.DataFrame(metrics)\n",
    "df[\"difference\"] = df.train_accuracy - df.validate_accuracy\n",
    "df"
   ]
  },
  {
   "cell_type": "code",
   "execution_count": null,
   "id": "6c732027",
   "metadata": {},
   "outputs": [],
   "source": []
  },
  {
   "cell_type": "code",
   "execution_count": null,
   "id": "d83833c7",
   "metadata": {},
   "outputs": [],
   "source": []
  },
  {
   "cell_type": "code",
   "execution_count": null,
   "id": "ea41ab96",
   "metadata": {},
   "outputs": [],
   "source": []
  },
  {
   "cell_type": "markdown",
   "id": "073b662a",
   "metadata": {},
   "source": [
    "# Random Forest modeling"
   ]
  },
  {
   "cell_type": "code",
   "execution_count": null,
   "id": "dd3d0812",
   "metadata": {},
   "outputs": [],
   "source": [
    "#make model\n",
    "forest1 = RandomForestClassifier(max_depth=4, random_state=123)\n",
    "\n",
    "#fit model on train\n",
    "forest1.fit(X_train, y_train)\n",
    "\n",
    "#use\n",
    "#evaluate\n",
    "y_predictions = forest1.predict(X_train)\n",
    "\n",
    "#produce classification report\n",
    "report = classification_report(y_train, y_predictions, output_dict=True)\n",
    "print(\"Tree of 1 depth\")\n",
    "pd.DataFrame(report)"
   ]
  },
  {
   "cell_type": "code",
   "execution_count": null,
   "id": "c9f30945",
   "metadata": {},
   "outputs": [],
   "source": [
    "#confusing matrix\n",
    "pd.DataFrame(confusion_matrix(y_predictions, y_train))"
   ]
  },
  {
   "cell_type": "code",
   "execution_count": null,
   "id": "1875a637",
   "metadata": {},
   "outputs": [],
   "source": [
    "TN, FP, FN, TP = confusion_matrix(y_train,y_predictions).ravel()\n",
    "ALL = TP + TN + FP + FN\n",
    "\n",
    "TP, TN, FP, FN"
   ]
  },
  {
   "cell_type": "code",
   "execution_count": null,
   "id": "2e90b4e2",
   "metadata": {},
   "outputs": [],
   "source": [
    "accuracy = (TP + TN)/ALL\n",
    "print(f\"Accuracy: {accuracy}\")\n",
    "\n",
    "true_positive_rate = TP/(TP+FN)\n",
    "print(f\"True Positive Rate: {true_positive_rate}\")\n",
    "\n",
    "false_positive_rate = FP/(FP+TN)\n",
    "print(f\"False Positive Rate: {false_positive_rate}\")\n",
    "\n",
    "true_negative_rate = TN/(TN+FP)\n",
    "print(f\"True Negative Rate: {true_negative_rate}\")\n",
    "\n",
    "false_negative_rate = FN/(FN+TP)\n",
    "print(f\"False Negative Rate: {false_negative_rate}\")\n",
    "\n",
    "precision = TP/(TP+FP)\n",
    "print(f\"Precision: {precision}\")\n",
    "\n",
    "recall = TP/(TP+FN)\n",
    "print(f\"Recall: {recall}\")\n",
    "\n",
    "f1_score = 2*(precision*recall)/(precision+recall)\n",
    "print(f\"F1 Score: {f1_score}\")\n",
    "\n",
    "support_pos = TP + FN\n",
    "print(f\"Support (0): {support_pos}\")\n",
    "\n",
    "support_neg = FP + TN\n",
    "print(f\"Support (1): {support_neg}\")"
   ]
  },
  {
   "cell_type": "code",
   "execution_count": null,
   "id": "87919224",
   "metadata": {},
   "outputs": [],
   "source": []
  },
  {
   "cell_type": "markdown",
   "id": "e2175720",
   "metadata": {},
   "source": [
    "# RF F1"
   ]
  },
  {
   "cell_type": "code",
   "execution_count": null,
   "id": "4c9bc490",
   "metadata": {},
   "outputs": [],
   "source": [
    "#Loop\n",
    "for i in range(2, 11):\n",
    "    #make model\n",
    "    forest = RandomForestClassifier(max_depth=i, min_samples_leaf=7, random_state=123)\n",
    "\n",
    "    #fit model on train\n",
    "    forest = forest.fit(X_train, y_train)\n",
    "\n",
    "    #use\n",
    "    #evaluate\n",
    "    y_predictions = forest.predict(X_train)\n",
    "\n",
    "    #produce classification report\n",
    "    report = classification_report(y_train, y_predictions, output_dict=True)\n",
    "    print(f'Train with max depth of {i}. \\n') \n",
    "    print(pd.DataFrame(report))\n",
    "    print()"
   ]
  },
  {
   "cell_type": "code",
   "execution_count": null,
   "id": "e8e86f27",
   "metadata": {},
   "outputs": [],
   "source": [
    "metrics = []\n",
    "\n",
    "for i in range(2, 25):\n",
    "    #make model\n",
    "    forest = RandomForestClassifier(max_depth=i, random_state=123)\n",
    "\n",
    "    #fit model on train\n",
    "    forest = forest.fit(X_train, y_train)\n",
    "\n",
    "    #use\n",
    "    #evaluate\n",
    "    in_sample_accuracy = forest.score(X_train,y_train)\n",
    "    \n",
    "    out_sample_accuracy = forest.score(X_validate, y_validate)\n",
    "    \n",
    "    output = {\n",
    "        'max_depth': i,\n",
    "        'train_accuracy': in_sample_accuracy,\n",
    "        'validate_accuracy': out_sample_accuracy\n",
    "    }\n",
    "    metrics.append(output)\n",
    "    \n",
    "df = pd.DataFrame(metrics)\n",
    "df[\"difference\"] = df.train_accuracy - df.validate_accuracy\n",
    "df"
   ]
  },
  {
   "cell_type": "code",
   "execution_count": null,
   "id": "a0d88dc2",
   "metadata": {
    "scrolled": true
   },
   "outputs": [],
   "source": [
    "df[df.difference <= 0.05].sort_values(by=['validate_accuracy', 'difference'], ascending = [False,True])"
   ]
  },
  {
   "cell_type": "code",
   "execution_count": null,
   "id": "3646e10f",
   "metadata": {},
   "outputs": [],
   "source": [
    "metrics = []\n",
    "\n",
    "for i in range(2, 25):\n",
    "    #make model\n",
    "    forest = RandomForestClassifier(max_depth=i, random_state=123)\n",
    "\n",
    "    #fit model on train\n",
    "    forest = forest.fit(X_train, y_train)\n",
    "\n",
    "    #use\n",
    "    #evaluate\n",
    "    in_sample_accuracy = forest.score(X_train,y_train)\n",
    "    \n",
    "    out_sample_accuracy = forest.score(X_validate, y_validate)\n",
    "    \n",
    "    output = {\n",
    "        'max_depth': i,\n",
    "        'train_accuracy': in_sample_accuracy,\n",
    "        'validate_accuracy': out_sample_accuracy\n",
    "    }\n",
    "    metrics.append(output)\n",
    "    \n",
    "df = pd.DataFrame(metrics)\n",
    "df[\"difference\"] = df.train_accuracy - df.validate_accuracy\n",
    "df"
   ]
  },
  {
   "cell_type": "code",
   "execution_count": null,
   "id": "d5285ea4",
   "metadata": {},
   "outputs": [],
   "source": []
  },
  {
   "cell_type": "markdown",
   "id": "1c82f2ae",
   "metadata": {},
   "source": [
    "# Random forrest [all features] max depth 4 preferredd model currently"
   ]
  },
  {
   "cell_type": "markdown",
   "id": "fd38d673",
   "metadata": {},
   "source": [
    "\n",
    "# RF using feature 4"
   ]
  },
  {
   "cell_type": "code",
   "execution_count": null,
   "id": "938192ec",
   "metadata": {},
   "outputs": [],
   "source": [
    "#make model\n",
    "forest2 = RandomForestClassifier(max_depth=4, random_state=123)\n",
    "\n",
    "#fit model on train\n",
    "forest2.fit(X_train[features5], y_train)\n",
    "\n",
    "#use\n",
    "#evaluate\n",
    "y_predictions = forest2.predict(X_train[features5])\n",
    "\n",
    "#produce classification report\n",
    "report = classification_report(y_train, y_predictions, output_dict=True)\n",
    "print(\"Tree of 4 depth, features 4\")\n",
    "pd.DataFrame(report)"
   ]
  },
  {
   "cell_type": "code",
   "execution_count": null,
   "id": "8c6fc4c4",
   "metadata": {},
   "outputs": [],
   "source": [
    "for i in range(2, 25):\n",
    "    #make model\n",
    "    forest = RandomForestClassifier(max_depth=i, random_state=123)\n",
    "\n",
    "    #fit model on train\n",
    "    forest = forest.fit(X_train[features5], y_train)\n",
    "\n",
    "    #use\n",
    "    #evaluate\n",
    "    in_sample_accuracy = forest.score(X_train[features5],y_train)\n",
    "    \n",
    "    out_sample_accuracy = forest.score(X_validate[features5], y_validate)\n",
    "    \n",
    "    output = {\n",
    "        'max_depth': i,\n",
    "        'train_accuracy': in_sample_accuracy,\n",
    "        'validate_accuracy': out_sample_accuracy\n",
    "    }\n",
    "    metrics.append(output)\n",
    "    \n",
    "df = pd.DataFrame(metrics)\n",
    "df[\"difference\"] = df.train_accuracy - df.validate_accuracy\n",
    "df"
   ]
  },
  {
   "cell_type": "code",
   "execution_count": null,
   "id": "920f04a5",
   "metadata": {},
   "outputs": [],
   "source": [
    "df[df.difference <= 0.05].sort_values(by=['validate_accuracy', 'difference'], ascending = [False,True])"
   ]
  },
  {
   "cell_type": "code",
   "execution_count": null,
   "id": "7a6107f2",
   "metadata": {},
   "outputs": [],
   "source": []
  },
  {
   "cell_type": "markdown",
   "id": "f330bc3c",
   "metadata": {},
   "source": [
    "# RF F6"
   ]
  },
  {
   "cell_type": "code",
   "execution_count": null,
   "id": "b1c134d3",
   "metadata": {},
   "outputs": [],
   "source": [
    "#make model\n",
    "forest2 = RandomForestClassifier(max_depth=4, random_state=123)\n",
    "\n",
    "#fit model on train\n",
    "forest2.fit(X_train[features6], y_train)\n",
    "\n",
    "#use\n",
    "#evaluate\n",
    "y_predictions = forest2.predict(X_train[features6])\n",
    "\n",
    "#produce classification report\n",
    "report = classification_report(y_train, y_predictions, output_dict=True)\n",
    "print(\"Tree of 4 depth, features 4\")\n",
    "pd.DataFrame(report)"
   ]
  },
  {
   "cell_type": "code",
   "execution_count": null,
   "id": "ded5b604",
   "metadata": {},
   "outputs": [],
   "source": [
    "for i in range(2, 25):\n",
    "    #make model\n",
    "    forest = RandomForestClassifier(max_depth=i, random_state=123)\n",
    "\n",
    "    #fit model on train\n",
    "    forest = forest.fit(X_train[features6], y_train)\n",
    "\n",
    "    #use\n",
    "    #evaluate\n",
    "    in_sample_accuracy = forest.score(X_train[features6],y_train)\n",
    "    \n",
    "    out_sample_accuracy = forest.score(X_validate[features6], y_validate)\n",
    "    \n",
    "    output = {\n",
    "        'max_depth': i,\n",
    "        'train_accuracy': in_sample_accuracy,\n",
    "        'validate_accuracy': out_sample_accuracy\n",
    "    }\n",
    "    metrics.append(output)\n",
    "    \n",
    "df = pd.DataFrame(metrics)\n",
    "df[\"difference\"] = df.train_accuracy - df.validate_accuracy\n",
    "df"
   ]
  },
  {
   "cell_type": "code",
   "execution_count": null,
   "id": "1aff3cfd",
   "metadata": {},
   "outputs": [],
   "source": []
  },
  {
   "cell_type": "code",
   "execution_count": null,
   "id": "1ffcf4ac",
   "metadata": {},
   "outputs": [],
   "source": []
  },
  {
   "cell_type": "markdown",
   "id": "333b5f12",
   "metadata": {},
   "source": [
    "# Logistic Regression"
   ]
  },
  {
   "cell_type": "code",
   "execution_count": 8,
   "id": "1f4f1675",
   "metadata": {},
   "outputs": [
    {
     "name": "stdout",
     "output_type": "stream",
     "text": [
      "Baseline is 0.73\n",
      "Accuracy of Logistic Regression classifier on training set: 0.80\n"
     ]
    }
   ],
   "source": [
    "#create LOG regression\n",
    "logit = LogisticRegression(penalty='l1',solver='liblinear', C=1, random_state=123)\n",
    "\n",
    "#Specify features\n",
    "\n",
    "\n",
    "# FIT model with specified features\n",
    "logit.fit(X_train, y_train)\n",
    "\n",
    "# predict on same subset\n",
    "y_pred = logit.predict(X_train)\n",
    "\n",
    "print(\"Baseline is\", round(baseline_accuracy, 2))\n",
    "# print(\"Logistic Regression using features\")\n",
    "print('Accuracy of Logistic Regression classifier on training set: {:.2f}'\n",
    "     .format(logit.score(X_train, y_train)))"
   ]
  },
  {
   "cell_type": "code",
   "execution_count": 9,
   "id": "f82adb4f",
   "metadata": {
    "scrolled": true
   },
   "outputs": [
    {
     "name": "stdout",
     "output_type": "stream",
     "text": [
      "              precision    recall  f1-score   support\n",
      "\n",
      "           0       0.85      0.88      0.87      1239\n",
      "           1       0.64      0.56      0.60       449\n",
      "\n",
      "    accuracy                           0.80      1688\n",
      "   macro avg       0.74      0.72      0.73      1688\n",
      "weighted avg       0.79      0.80      0.79      1688\n",
      "\n"
     ]
    }
   ],
   "source": [
    "# predict on same subset\n",
    "y_pred = logit.predict(X_validate)\n",
    "\n",
    "print(classification_report(y_validate, y_pred))"
   ]
  },
  {
   "cell_type": "code",
   "execution_count": null,
   "id": "3ebf469c",
   "metadata": {},
   "outputs": [],
   "source": []
  },
  {
   "cell_type": "code",
   "execution_count": null,
   "id": "9a934047",
   "metadata": {},
   "outputs": [],
   "source": []
  },
  {
   "cell_type": "code",
   "execution_count": null,
   "id": "f6068d91",
   "metadata": {},
   "outputs": [],
   "source": [
    "features = ['monthly_charges', 'internet_service_type_Fiber optic', 'internet_service_type_None', 'senior_citizen']\n",
    "features2 = ['tenure','monthly_charges', 'partner_encoded','senior_citizen']\n",
    "features3 = ['tenure','monthly_charges', 'partner_encoded','total_charges','senior_citizen']\n",
    "features4 = ['tenure','monthly_charges', 'partner_encoded']\n",
    "features5 = ['internet_service_type_Fiber optic', 'internet_service_type_None','tenure','monthly_charges']\n",
    "features6 = ['tenure','contract_type_One year','contract_type_Two year','internet_service_type_Fiber optic','internet_service_type_None','monthly_charges']"
   ]
  },
  {
   "cell_type": "code",
   "execution_count": null,
   "id": "28e12554",
   "metadata": {},
   "outputs": [],
   "source": []
  },
  {
   "cell_type": "code",
   "execution_count": null,
   "id": "692a6309",
   "metadata": {},
   "outputs": [],
   "source": [
    "#create LOG regression\n",
    "logit = LogisticRegression(penalty='l1',solver='liblinear', C=1, random_state=123)\n",
    "\n",
    "#Specify features\n",
    "\n",
    "\n",
    "# FIT model with specified features\n",
    "logit.fit(X_train[features], y_train)\n",
    "\n",
    "# predict on same subset\n",
    "y_pred = logit.predict(X_train[features])\n",
    "\n",
    "print(\"Baseline is\", round(baseline_accuracy, 2))\n",
    "# print(\"Logistic Regression using features\")\n",
    "print('Accuracy of Logistic Regression classifier on training set: {:.2f}'\n",
    "     .format(logit.score(X_train[features], y_train)))"
   ]
  },
  {
   "cell_type": "code",
   "execution_count": null,
   "id": "0809c666",
   "metadata": {},
   "outputs": [],
   "source": [
    "# predict on same subset\n",
    "y_pred = logit.predict(X_validate)\n",
    "\n",
    "print(classification_report(y_validate, y_pred))"
   ]
  },
  {
   "cell_type": "code",
   "execution_count": null,
   "id": "1d45dfe4",
   "metadata": {},
   "outputs": [],
   "source": []
  },
  {
   "cell_type": "code",
   "execution_count": 10,
   "id": "402b788d",
   "metadata": {},
   "outputs": [
    {
     "name": "stdout",
     "output_type": "stream",
     "text": [
      "Baseline is 0.73\n",
      "Accuracy of Logistic Regression classifier on training set: 0.80\n"
     ]
    }
   ],
   "source": [
    "#create LOG regression\n",
    "logit = LogisticRegression(C=0.01, random_state=70)\n",
    "\n",
    "\n",
    "# FIT model with specified features\n",
    "logit = logit.fit(X_train, y_train)\n",
    "\n",
    "# predict on same subset\n",
    "y_pred = logit.predict(X_train)\n",
    "\n",
    "print(\"Baseline is\", round(baseline_accuracy, 2))\n",
    "print('Accuracy of Logistic Regression classifier on training set: {:.2f}'\n",
    "     .format(logit.score(X_train, y_train)))"
   ]
  },
  {
   "cell_type": "code",
   "execution_count": 11,
   "id": "096f1644",
   "metadata": {},
   "outputs": [
    {
     "name": "stdout",
     "output_type": "stream",
     "text": [
      "              precision    recall  f1-score   support\n",
      "\n",
      "           0       0.84      0.90      0.87      1239\n",
      "           1       0.65      0.53      0.58       449\n",
      "\n",
      "    accuracy                           0.80      1688\n",
      "   macro avg       0.75      0.71      0.73      1688\n",
      "weighted avg       0.79      0.80      0.79      1688\n",
      "\n"
     ]
    }
   ],
   "source": [
    "# predict on same subset\n",
    "y_pred = logit.predict(X_validate)\n",
    "\n",
    "print(classification_report(y_validate, y_pred))"
   ]
  },
  {
   "cell_type": "code",
   "execution_count": 12,
   "id": "838e9b12",
   "metadata": {},
   "outputs": [
    {
     "name": "stdout",
     "output_type": "stream",
     "text": [
      "              precision    recall  f1-score   support\n",
      "\n",
      "           0       0.85      0.90      0.88      1033\n",
      "           1       0.68      0.56      0.62       374\n",
      "\n",
      "    accuracy                           0.81      1407\n",
      "   macro avg       0.76      0.73      0.75      1407\n",
      "weighted avg       0.80      0.81      0.81      1407\n",
      "\n"
     ]
    }
   ],
   "source": [
    "# predict on test\n",
    "y_pred = logit.predict(X_test)\n",
    "\n",
    "# probability estimates\n",
    "y_proba = logit.predict_proba(X_test)\n",
    "\n",
    "# evaulate on validate\n",
    "print(classification_report(y_test, y_pred))"
   ]
  },
  {
   "cell_type": "code",
   "execution_count": null,
   "id": "14c9d9ea",
   "metadata": {},
   "outputs": [],
   "source": []
  },
  {
   "cell_type": "code",
   "execution_count": 13,
   "id": "f8ce7b85",
   "metadata": {},
   "outputs": [],
   "source": [
    "df1 = get_telco_data()\n",
    "df2 = pd.DataFrame(y_pred)\n",
    "df3 = pd.DataFrame(y_proba)\n",
    "df4 = pd.merge(df2, df3, left_index=True, right_index=True)\n",
    "df4.rename(columns={'0_x':'churn_prediction', '0_y':'probability_churn_false',1:'probability_churn_true'}, inplace = True)\n"
   ]
  },
  {
   "cell_type": "code",
   "execution_count": null,
   "id": "16035e20",
   "metadata": {},
   "outputs": [],
   "source": [
    "df1.head()"
   ]
  },
  {
   "cell_type": "code",
   "execution_count": 14,
   "id": "1148542f",
   "metadata": {},
   "outputs": [],
   "source": [
    "export = pd.merge(df1,df4, left_index = True, right_index=True)\n",
    "export.drop(columns=['payment_type_id', 'internet_service_type_id', 'contract_type_id', 'gender','senior_citizen','partner','dependents','tenure','phone_service','paperless_billing','monthly_charges','total_charges','churn','contract_type','internet_service_type','payment_type',\n",
    "                    'multiple_lines','online_security','online_backup','device_protection','streaming_tv','streaming_movies','tech_support'],inplace = True)\n",
    "export.to_csv('predictions.csv')"
   ]
  },
  {
   "cell_type": "code",
   "execution_count": null,
   "id": "89f2041a",
   "metadata": {},
   "outputs": [],
   "source": []
  },
  {
   "cell_type": "code",
   "execution_count": null,
   "id": "21c9380a",
   "metadata": {},
   "outputs": [],
   "source": []
  },
  {
   "cell_type": "code",
   "execution_count": 18,
   "id": "f6187188",
   "metadata": {},
   "outputs": [
    {
     "data": {
      "text/html": [
       "<div>\n",
       "<style scoped>\n",
       "    .dataframe tbody tr th:only-of-type {\n",
       "        vertical-align: middle;\n",
       "    }\n",
       "\n",
       "    .dataframe tbody tr th {\n",
       "        vertical-align: top;\n",
       "    }\n",
       "\n",
       "    .dataframe thead th {\n",
       "        text-align: right;\n",
       "    }\n",
       "</style>\n",
       "<table border=\"1\" class=\"dataframe\">\n",
       "  <thead>\n",
       "    <tr style=\"text-align: right;\">\n",
       "      <th></th>\n",
       "      <th>Unnamed: 0</th>\n",
       "      <th>customer_id</th>\n",
       "      <th>churn_prediction</th>\n",
       "      <th>probability_churn_false</th>\n",
       "      <th>probability_churn_true</th>\n",
       "    </tr>\n",
       "  </thead>\n",
       "  <tbody>\n",
       "    <tr>\n",
       "      <th>0</th>\n",
       "      <td>0</td>\n",
       "      <td>0002-ORFBO</td>\n",
       "      <td>0</td>\n",
       "      <td>0.966179</td>\n",
       "      <td>0.033821</td>\n",
       "    </tr>\n",
       "    <tr>\n",
       "      <th>1</th>\n",
       "      <td>1</td>\n",
       "      <td>0003-MKNFE</td>\n",
       "      <td>0</td>\n",
       "      <td>0.974090</td>\n",
       "      <td>0.025910</td>\n",
       "    </tr>\n",
       "    <tr>\n",
       "      <th>2</th>\n",
       "      <td>2</td>\n",
       "      <td>0004-TLHLJ</td>\n",
       "      <td>1</td>\n",
       "      <td>0.420788</td>\n",
       "      <td>0.579212</td>\n",
       "    </tr>\n",
       "    <tr>\n",
       "      <th>3</th>\n",
       "      <td>3</td>\n",
       "      <td>0011-IGKFF</td>\n",
       "      <td>0</td>\n",
       "      <td>0.617416</td>\n",
       "      <td>0.382584</td>\n",
       "    </tr>\n",
       "    <tr>\n",
       "      <th>4</th>\n",
       "      <td>4</td>\n",
       "      <td>0013-EXCHZ</td>\n",
       "      <td>0</td>\n",
       "      <td>0.897406</td>\n",
       "      <td>0.102594</td>\n",
       "    </tr>\n",
       "  </tbody>\n",
       "</table>\n",
       "</div>"
      ],
      "text/plain": [
       "   Unnamed: 0 customer_id  churn_prediction  probability_churn_false  \\\n",
       "0           0  0002-ORFBO                 0                 0.966179   \n",
       "1           1  0003-MKNFE                 0                 0.974090   \n",
       "2           2  0004-TLHLJ                 1                 0.420788   \n",
       "3           3  0011-IGKFF                 0                 0.617416   \n",
       "4           4  0013-EXCHZ                 0                 0.897406   \n",
       "\n",
       "   probability_churn_true  \n",
       "0                0.033821  \n",
       "1                0.025910  \n",
       "2                0.579212  \n",
       "3                0.382584  \n",
       "4                0.102594  "
      ]
     },
     "execution_count": 18,
     "metadata": {},
     "output_type": "execute_result"
    }
   ],
   "source": [
    "df_pred.head()"
   ]
  },
  {
   "cell_type": "code",
   "execution_count": 15,
   "id": "098a524a",
   "metadata": {},
   "outputs": [],
   "source": [
    "df_pred = pd.read_csv('predictions.csv')"
   ]
  },
  {
   "cell_type": "code",
   "execution_count": 20,
   "id": "9f40b635",
   "metadata": {},
   "outputs": [],
   "source": [
    "df_pred = df_pred.drop(columns=['Unnamed: 0'])"
   ]
  },
  {
   "cell_type": "code",
   "execution_count": 22,
   "id": "6ce6a74e",
   "metadata": {},
   "outputs": [
    {
     "data": {
      "text/html": [
       "<div>\n",
       "<style scoped>\n",
       "    .dataframe tbody tr th:only-of-type {\n",
       "        vertical-align: middle;\n",
       "    }\n",
       "\n",
       "    .dataframe tbody tr th {\n",
       "        vertical-align: top;\n",
       "    }\n",
       "\n",
       "    .dataframe thead th {\n",
       "        text-align: right;\n",
       "    }\n",
       "</style>\n",
       "<table border=\"1\" class=\"dataframe\">\n",
       "  <thead>\n",
       "    <tr style=\"text-align: right;\">\n",
       "      <th></th>\n",
       "      <th>customer_id</th>\n",
       "      <th>churn_prediction</th>\n",
       "      <th>probability_churn_false</th>\n",
       "      <th>probability_churn_true</th>\n",
       "    </tr>\n",
       "  </thead>\n",
       "  <tbody>\n",
       "    <tr>\n",
       "      <th>0</th>\n",
       "      <td>0002-ORFBO</td>\n",
       "      <td>0</td>\n",
       "      <td>0.966179</td>\n",
       "      <td>0.033821</td>\n",
       "    </tr>\n",
       "    <tr>\n",
       "      <th>1</th>\n",
       "      <td>0003-MKNFE</td>\n",
       "      <td>0</td>\n",
       "      <td>0.974090</td>\n",
       "      <td>0.025910</td>\n",
       "    </tr>\n",
       "    <tr>\n",
       "      <th>2</th>\n",
       "      <td>0004-TLHLJ</td>\n",
       "      <td>1</td>\n",
       "      <td>0.420788</td>\n",
       "      <td>0.579212</td>\n",
       "    </tr>\n",
       "    <tr>\n",
       "      <th>3</th>\n",
       "      <td>0011-IGKFF</td>\n",
       "      <td>0</td>\n",
       "      <td>0.617416</td>\n",
       "      <td>0.382584</td>\n",
       "    </tr>\n",
       "    <tr>\n",
       "      <th>4</th>\n",
       "      <td>0013-EXCHZ</td>\n",
       "      <td>0</td>\n",
       "      <td>0.897406</td>\n",
       "      <td>0.102594</td>\n",
       "    </tr>\n",
       "  </tbody>\n",
       "</table>\n",
       "</div>"
      ],
      "text/plain": [
       "  customer_id  churn_prediction  probability_churn_false  \\\n",
       "0  0002-ORFBO                 0                 0.966179   \n",
       "1  0003-MKNFE                 0                 0.974090   \n",
       "2  0004-TLHLJ                 1                 0.420788   \n",
       "3  0011-IGKFF                 0                 0.617416   \n",
       "4  0013-EXCHZ                 0                 0.897406   \n",
       "\n",
       "   probability_churn_true  \n",
       "0                0.033821  \n",
       "1                0.025910  \n",
       "2                0.579212  \n",
       "3                0.382584  \n",
       "4                0.102594  "
      ]
     },
     "execution_count": 22,
     "metadata": {},
     "output_type": "execute_result"
    }
   ],
   "source": [
    "df_pred.head()"
   ]
  },
  {
   "cell_type": "code",
   "execution_count": 23,
   "id": "166cccbb",
   "metadata": {},
   "outputs": [],
   "source": [
    "df_pred.to_csv('predictions.csv')"
   ]
  }
 ],
 "metadata": {
  "kernelspec": {
   "display_name": "Python 3 (ipykernel)",
   "language": "python",
   "name": "python3"
  },
  "language_info": {
   "codemirror_mode": {
    "name": "ipython",
    "version": 3
   },
   "file_extension": ".py",
   "mimetype": "text/x-python",
   "name": "python",
   "nbconvert_exporter": "python",
   "pygments_lexer": "ipython3",
   "version": "3.9.12"
  }
 },
 "nbformat": 4,
 "nbformat_minor": 5
}
