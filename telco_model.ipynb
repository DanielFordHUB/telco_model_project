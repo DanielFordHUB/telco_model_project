{
 "cells": [
  {
   "cell_type": "code",
   "execution_count": 5,
   "id": "9853bf20",
   "metadata": {},
   "outputs": [],
   "source": [
    "import numpy as np\n",
    "import pandas as pd\n",
    "from sklearn.model_selection import train_test_split\n",
    "import matplotlib.pyplot as plt\n",
    "import seaborn as sns\n",
    "\n",
    "\n",
    "from sklearn.linear_model import LogisticRegression\n",
    "from sklearn.ensemble import RandomForestClassifier\n",
    "from sklearn.tree import DecisionTreeClassifier\n",
    "from sklearn.tree import export_graphviz\n",
    "from sklearn.metrics import classification_report\n",
    "from sklearn.metrics import confusion_matrix\n",
    "from sklearn.neighbors import KNeighborsClassifier\n",
    "from sklearn.metrics import recall_score, precision_score, f1_score, accuracy_score\n",
    "import sklearn.linear_model\n",
    "\n",
    "import warnings\n",
    "warnings.filterwarnings(\"ignore\")\n",
    "\n",
    "from acquire_telco import get_telco_data\n",
    "from prep_telco import prep_telco_data, split_telco_data"
   ]
  },
  {
   "cell_type": "code",
   "execution_count": 6,
   "id": "853f7e64",
   "metadata": {},
   "outputs": [],
   "source": [
    "import dtale"
   ]
  },
  {
   "cell_type": "code",
   "execution_count": 7,
   "id": "96951fb2",
   "metadata": {},
   "outputs": [],
   "source": [
    "df = get_telco_data()"
   ]
  },
  {
   "cell_type": "code",
   "execution_count": 8,
   "id": "f78e239d",
   "metadata": {},
   "outputs": [
    {
     "data": {
      "text/html": [
       "\n",
       "        <iframe\n",
       "            width=\"100%\"\n",
       "            height=\"475\"\n",
       "            src=\"http://localhost:40000/dtale/iframe/2\"\n",
       "            frameborder=\"0\"\n",
       "            allowfullscreen\n",
       "            \n",
       "        ></iframe>\n",
       "        "
      ],
      "text/plain": [
       "<IPython.lib.display.IFrame at 0x7fa36c48c2b0>"
      ]
     },
     "metadata": {},
     "output_type": "display_data"
    },
    {
     "data": {
      "text/plain": []
     },
     "execution_count": 8,
     "metadata": {},
     "output_type": "execute_result"
    }
   ],
   "source": [
    "dtale.show(df)"
   ]
  },
  {
   "cell_type": "code",
   "execution_count": null,
   "id": "46bb5dc5",
   "metadata": {},
   "outputs": [],
   "source": [
    "df.head()"
   ]
  },
  {
   "cell_type": "code",
   "execution_count": null,
   "id": "486a76b2",
   "metadata": {},
   "outputs": [],
   "source": [
    "df.shape"
   ]
  },
  {
   "cell_type": "code",
   "execution_count": 9,
   "id": "324b72cd",
   "metadata": {},
   "outputs": [],
   "source": [
    "df = prep_telco_data(df)"
   ]
  },
  {
   "cell_type": "code",
   "execution_count": 10,
   "id": "a595ee58",
   "metadata": {},
   "outputs": [],
   "source": [
    "train, validate, test = df"
   ]
  },
  {
   "cell_type": "code",
   "execution_count": 11,
   "id": "13175802",
   "metadata": {},
   "outputs": [
    {
     "data": {
      "text/plain": [
       "((3937, 47), (1688, 47), (1407, 47))"
      ]
     },
     "execution_count": 11,
     "metadata": {},
     "output_type": "execute_result"
    }
   ],
   "source": [
    "train.shape, validate.shape, test.shape"
   ]
  },
  {
   "cell_type": "code",
   "execution_count": null,
   "id": "afff4764",
   "metadata": {},
   "outputs": [],
   "source": [
    "train.info()"
   ]
  },
  {
   "cell_type": "code",
   "execution_count": 12,
   "id": "1860f1cc",
   "metadata": {},
   "outputs": [],
   "source": [
    "# drop object dtypes\n",
    "train = train.select_dtypes(exclude=['object'])\n",
    "validate = validate.select_dtypes(exclude=['object'])\n",
    "test = test.select_dtypes(exclude=['object'])"
   ]
  },
  {
   "cell_type": "code",
   "execution_count": 13,
   "id": "a76c7ed6",
   "metadata": {},
   "outputs": [
    {
     "name": "stdout",
     "output_type": "stream",
     "text": [
      "<class 'pandas.core.frame.DataFrame'>\n",
      "Int64Index: 3937 entries, 5919 to 4192\n",
      "Data columns (total 31 columns):\n",
      " #   Column                                 Non-Null Count  Dtype  \n",
      "---  ------                                 --------------  -----  \n",
      " 0   senior_citizen                         3937 non-null   int64  \n",
      " 1   tenure                                 3937 non-null   int64  \n",
      " 2   monthly_charges                        3937 non-null   float64\n",
      " 3   total_charges                          3937 non-null   float64\n",
      " 4   gender_encoded                         3937 non-null   int64  \n",
      " 5   partner_encoded                        3937 non-null   int64  \n",
      " 6   dependents_encoded                     3937 non-null   int64  \n",
      " 7   phone_service_encoded                  3937 non-null   int64  \n",
      " 8   paperless_billing_encoded              3937 non-null   int64  \n",
      " 9   churn_encoded                          3937 non-null   int64  \n",
      " 10  multiple_lines_No phone service        3937 non-null   uint8  \n",
      " 11  multiple_lines_Yes                     3937 non-null   uint8  \n",
      " 12  online_security_No internet service    3937 non-null   uint8  \n",
      " 13  online_security_Yes                    3937 non-null   uint8  \n",
      " 14  online_backup_No internet service      3937 non-null   uint8  \n",
      " 15  online_backup_Yes                      3937 non-null   uint8  \n",
      " 16  device_protection_No internet service  3937 non-null   uint8  \n",
      " 17  device_protection_Yes                  3937 non-null   uint8  \n",
      " 18  tech_support_No internet service       3937 non-null   uint8  \n",
      " 19  tech_support_Yes                       3937 non-null   uint8  \n",
      " 20  streaming_tv_No internet service       3937 non-null   uint8  \n",
      " 21  streaming_tv_Yes                       3937 non-null   uint8  \n",
      " 22  streaming_movies_No internet service   3937 non-null   uint8  \n",
      " 23  streaming_movies_Yes                   3937 non-null   uint8  \n",
      " 24  contract_type_One year                 3937 non-null   uint8  \n",
      " 25  contract_type_Two year                 3937 non-null   uint8  \n",
      " 26  internet_service_type_Fiber optic      3937 non-null   uint8  \n",
      " 27  internet_service_type_None             3937 non-null   uint8  \n",
      " 28  payment_type_Credit card (automatic)   3937 non-null   uint8  \n",
      " 29  payment_type_Electronic check          3937 non-null   uint8  \n",
      " 30  payment_type_Mailed check              3937 non-null   uint8  \n",
      "dtypes: float64(2), int64(8), uint8(21)\n",
      "memory usage: 419.1 KB\n"
     ]
    }
   ],
   "source": [
    "train.info()\n"
   ]
  },
  {
   "cell_type": "code",
   "execution_count": 14,
   "id": "51a8bede",
   "metadata": {},
   "outputs": [
    {
     "data": {
      "text/html": [
       "\n",
       "        <iframe\n",
       "            width=\"100%\"\n",
       "            height=\"475\"\n",
       "            src=\"http://localhost:40000/dtale/iframe/3\"\n",
       "            frameborder=\"0\"\n",
       "            allowfullscreen\n",
       "            \n",
       "        ></iframe>\n",
       "        "
      ],
      "text/plain": [
       "<IPython.lib.display.IFrame at 0x7fa36ce1c040>"
      ]
     },
     "metadata": {},
     "output_type": "display_data"
    },
    {
     "data": {
      "text/plain": []
     },
     "execution_count": 14,
     "metadata": {},
     "output_type": "execute_result"
    },
    {
     "name": "stdout",
     "output_type": "stream",
     "text": [
      "Exception occurred while processing request: None\n",
      "Traceback (most recent call last):\n",
      "  File \"/usr/local/anaconda3/lib/python3.9/site-packages/pandas/core/indexes/base.py\", line 3621, in get_loc\n",
      "    return self._engine.get_loc(casted_key)\n",
      "  File \"pandas/_libs/index.pyx\", line 136, in pandas._libs.index.IndexEngine.get_loc\n",
      "  File \"pandas/_libs/index.pyx\", line 163, in pandas._libs.index.IndexEngine.get_loc\n",
      "  File \"pandas/_libs/hashtable_class_helper.pxi\", line 5198, in pandas._libs.hashtable.PyObjectHashTable.get_item\n",
      "  File \"pandas/_libs/hashtable_class_helper.pxi\", line 5206, in pandas._libs.hashtable.PyObjectHashTable.get_item\n",
      "KeyError: None\n",
      "\n",
      "The above exception was the direct cause of the following exception:\n",
      "\n",
      "Traceback (most recent call last):\n",
      "  File \"/usr/local/anaconda3/lib/python3.9/site-packages/dtale/views.py\", line 120, in _handle_exceptions\n",
      "    return func(*args, **kwargs)\n",
      "  File \"/usr/local/anaconda3/lib/python3.9/site-packages/dtale/views.py\", line 1737, in get_duplicates\n",
      "    return jsonify(results=duplicate_check.test())\n",
      "  File \"/usr/local/anaconda3/lib/python3.9/site-packages/dtale/duplicate_checks.py\", line 44, in test\n",
      "    return self.checker.check(data)\n",
      "  File \"/usr/local/anaconda3/lib/python3.9/site-packages/dtale/duplicate_checks.py\", line 191, in check\n",
      "    duplicates = df[group].reset_index().groupby(group).count()\n",
      "  File \"/usr/local/anaconda3/lib/python3.9/site-packages/pandas/core/frame.py\", line 3505, in __getitem__\n",
      "    indexer = self.columns.get_loc(key)\n",
      "  File \"/usr/local/anaconda3/lib/python3.9/site-packages/pandas/core/indexes/base.py\", line 3623, in get_loc\n",
      "    raise KeyError(key) from err\n",
      "KeyError: None\n"
     ]
    },
    {
     "name": "stderr",
     "output_type": "stream",
     "text": [
      "2022-07-11 15:50:00,603 - ERROR    - Exception occurred while processing request: None\n",
      "Traceback (most recent call last):\n",
      "  File \"/usr/local/anaconda3/lib/python3.9/site-packages/pandas/core/indexes/base.py\", line 3621, in get_loc\n",
      "    return self._engine.get_loc(casted_key)\n",
      "  File \"pandas/_libs/index.pyx\", line 136, in pandas._libs.index.IndexEngine.get_loc\n",
      "  File \"pandas/_libs/index.pyx\", line 163, in pandas._libs.index.IndexEngine.get_loc\n",
      "  File \"pandas/_libs/hashtable_class_helper.pxi\", line 5198, in pandas._libs.hashtable.PyObjectHashTable.get_item\n",
      "  File \"pandas/_libs/hashtable_class_helper.pxi\", line 5206, in pandas._libs.hashtable.PyObjectHashTable.get_item\n",
      "KeyError: None\n",
      "\n",
      "The above exception was the direct cause of the following exception:\n",
      "\n",
      "Traceback (most recent call last):\n",
      "  File \"/usr/local/anaconda3/lib/python3.9/site-packages/dtale/views.py\", line 120, in _handle_exceptions\n",
      "    return func(*args, **kwargs)\n",
      "  File \"/usr/local/anaconda3/lib/python3.9/site-packages/dtale/views.py\", line 1737, in get_duplicates\n",
      "    return jsonify(results=duplicate_check.test())\n",
      "  File \"/usr/local/anaconda3/lib/python3.9/site-packages/dtale/duplicate_checks.py\", line 44, in test\n",
      "    return self.checker.check(data)\n",
      "  File \"/usr/local/anaconda3/lib/python3.9/site-packages/dtale/duplicate_checks.py\", line 191, in check\n",
      "    duplicates = df[group].reset_index().groupby(group).count()\n",
      "  File \"/usr/local/anaconda3/lib/python3.9/site-packages/pandas/core/frame.py\", line 3505, in __getitem__\n",
      "    indexer = self.columns.get_loc(key)\n",
      "  File \"/usr/local/anaconda3/lib/python3.9/site-packages/pandas/core/indexes/base.py\", line 3623, in get_loc\n",
      "    raise KeyError(key) from err\n",
      "KeyError: None\n"
     ]
    }
   ],
   "source": [
    "dtale.show(train)"
   ]
  },
  {
   "cell_type": "code",
   "execution_count": null,
   "id": "4cf8addb",
   "metadata": {},
   "outputs": [],
   "source": [
    "train.shape, validate.shape, test.shape"
   ]
  },
  {
   "cell_type": "code",
   "execution_count": null,
   "id": "050150e5",
   "metadata": {},
   "outputs": [],
   "source": [
    "train.churn_encoded.value_counts()"
   ]
  },
  {
   "cell_type": "code",
   "execution_count": null,
   "id": "278b9e36",
   "metadata": {},
   "outputs": [],
   "source": []
  },
  {
   "cell_type": "code",
   "execution_count": null,
   "id": "f18e7ac8",
   "metadata": {},
   "outputs": [],
   "source": [
    "X_train = train.drop(columns=[\"churn_encoded\"])\n",
    "y_train = train.churn_encoded\n",
    "\n",
    "X_validate = validate.drop(columns=[\"churn_encoded\"])\n",
    "y_validate = validate.churn_encoded\n",
    "\n",
    "X_test = test.drop(columns=[\"churn_encoded\"])\n",
    "y_test = test.churn_encoded"
   ]
  },
  {
   "cell_type": "code",
   "execution_count": null,
   "id": "a70148ac",
   "metadata": {},
   "outputs": [],
   "source": [
    "y_train[0:10]"
   ]
  },
  {
   "cell_type": "code",
   "execution_count": null,
   "id": "9d87e27e",
   "metadata": {},
   "outputs": [],
   "source": [
    "train.churn_encoded.value_counts()"
   ]
  },
  {
   "cell_type": "code",
   "execution_count": null,
   "id": "88eeb463",
   "metadata": {},
   "outputs": [],
   "source": [
    "# Create Baseline\n",
    "baseline = y_train.mode()\n",
    "\n",
    "# Produce a boolean array with True representing a match between the baseline prediction and reality\n",
    "matches_baseline_prediction = (y_train == 0)\n",
    "\n",
    "baseline_accuracy = matches_baseline_prediction.mean()\n",
    "print(f\"Baseline accuracy: {round(baseline_accuracy, 2)}\")"
   ]
  },
  {
   "cell_type": "markdown",
   "id": "99898431",
   "metadata": {},
   "source": [
    "# Decision Tree Exploration"
   ]
  },
  {
   "cell_type": "code",
   "execution_count": null,
   "id": "436d8ca2",
   "metadata": {},
   "outputs": [],
   "source": [
    "# Make the model\n",
    "tree1 = DecisionTreeClassifier(max_depth=4, random_state=123)\n",
    "\n",
    "# Fit the model (on train and only train)\n",
    "tree1 = tree1.fit(X_train, y_train)\n",
    "\n",
    "# Use the model\n",
    "# We'll evaluate the model's performance on train, first\n",
    "y_predictions = tree1.predict(X_train)"
   ]
  },
  {
   "cell_type": "code",
   "execution_count": null,
   "id": "284e0eab",
   "metadata": {},
   "outputs": [],
   "source": [
    "print('Accuracy of Decision Tree classifier on training set: {:.2f}'\n",
    "      .format(tree1.score(X_train, y_train)))"
   ]
  },
  {
   "cell_type": "code",
   "execution_count": null,
   "id": "607adbc9",
   "metadata": {},
   "outputs": [],
   "source": [
    "# confusion matrix - actual on left, predicted on top\n",
    "pd.DataFrame(confusion_matrix(y_train, y_predictions))"
   ]
  },
  {
   "cell_type": "code",
   "execution_count": null,
   "id": "60f2e3e6",
   "metadata": {},
   "outputs": [],
   "source": [
    "pd.crosstab(y_train, y_predictions)"
   ]
  },
  {
   "cell_type": "code",
   "execution_count": null,
   "id": "62709325",
   "metadata": {},
   "outputs": [],
   "source": [
    "print(classification_report(y_train, y_predictions))"
   ]
  },
  {
   "cell_type": "code",
   "execution_count": null,
   "id": "2aecb556",
   "metadata": {},
   "outputs": [],
   "source": [
    "# Produce the classification report on the actual y values and this model's predicted y values\n",
    "report = classification_report(y_train, y_predictions, output_dict=True)\n",
    "print(\"Tree of 1 depth\")\n",
    "pd.DataFrame(report)"
   ]
  },
  {
   "cell_type": "markdown",
   "id": "2014980d",
   "metadata": {},
   "source": [
    "# loop exploration DT"
   ]
  },
  {
   "cell_type": "code",
   "execution_count": null,
   "id": "8905469f",
   "metadata": {},
   "outputs": [],
   "source": [
    "for i in range(2, 21):\n",
    "    # Make the model\n",
    "    tree = DecisionTreeClassifier(max_depth=i, random_state=123)\n",
    "\n",
    "    # Fit the model (on train and only train)\n",
    "    tree = tree.fit(X_train, y_train)\n",
    "\n",
    "    # Use the model\n",
    "    # We'll evaluate the model's performance on train, first\n",
    "    y_predictions = tree.predict(X_train)\n",
    "\n",
    "    # Produce the classification report on the actual y values and this model's predicted y values\n",
    "    report = classification_report(y_train, y_predictions, output_dict=True)\n",
    "    print(f\"Tree with max depth of {i}\")\n",
    "    print(pd.DataFrame(report))\n",
    "    print()"
   ]
  },
  {
   "cell_type": "code",
   "execution_count": null,
   "id": "869c8aa6",
   "metadata": {},
   "outputs": [],
   "source": [
    "# Let's continue getting loopy, so we can compare in-sample to out-of-sample\n",
    "metrics = []\n",
    "\n",
    "for i in range(2, 25):\n",
    "    # Make the model\n",
    "    tree = DecisionTreeClassifier(max_depth=i, random_state=123)\n",
    "\n",
    "    # Fit the model (on train and only train)\n",
    "    tree = tree.fit(X_train, y_train)\n",
    "\n",
    "    # Use the model\n",
    "    # We'll evaluate the model's performance on train, first\n",
    "    in_sample_accuracy = tree.score(X_train, y_train)\n",
    "    \n",
    "    out_of_sample_accuracy = tree.score(X_validate, y_validate)\n",
    "\n",
    "    output = {\n",
    "        \"max_depth\": i,\n",
    "        \"train_accuracy\": in_sample_accuracy,\n",
    "        \"validate_accuracy\": out_of_sample_accuracy\n",
    "    }\n",
    "    \n",
    "    metrics.append(output)\n",
    "    \n",
    "df = pd.DataFrame(metrics)\n",
    "df[\"difference\"] = df.train_accuracy - df.validate_accuracy\n",
    "df"
   ]
  }
 ],
 "metadata": {
  "kernelspec": {
   "display_name": "Python 3 (ipykernel)",
   "language": "python",
   "name": "python3"
  },
  "language_info": {
   "codemirror_mode": {
    "name": "ipython",
    "version": 3
   },
   "file_extension": ".py",
   "mimetype": "text/x-python",
   "name": "python",
   "nbconvert_exporter": "python",
   "pygments_lexer": "ipython3",
   "version": "3.9.12"
  }
 },
 "nbformat": 4,
 "nbformat_minor": 5
}
